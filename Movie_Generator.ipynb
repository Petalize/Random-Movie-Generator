{
  "cells": [
    {
      "cell_type": "markdown",
      "metadata": {
        "id": "view-in-github",
        "colab_type": "text"
      },
      "source": [
        "<a href=\"https://colab.research.google.com/github/Petalize/Random-Movie-Generator/blob/main/Movie_Generator.ipynb\" target=\"_parent\"><img src=\"https://colab.research.google.com/assets/colab-badge.svg\" alt=\"Open In Colab\"/></a>"
      ]
    },
    {
      "cell_type": "code",
      "execution_count": null,
      "metadata": {
        "id": "Wi6mVff1deap"
      },
      "outputs": [],
      "source": [
        "import random\n",
        "import time\n",
        "import sys"
      ]
    },
    {
      "cell_type": "code",
      "execution_count": null,
      "metadata": {
        "cellView": "form",
        "id": "nzDDoi4oqCPC"
      },
      "outputs": [],
      "source": [
        "#@title Do not open!!!!!!!!!!\n",
        "Answer_1 = 'b'\n",
        "Answer_2 = 'b'\n",
        "Answer_3 = 'a'"
      ]
    },
    {
      "cell_type": "markdown",
      "metadata": {
        "id": "vx4BozZLgXLY"
      },
      "source": [
        "**Version One**\n",
        "\n",
        "簡單，快捷，按一次搞定"
      ]
    },
    {
      "cell_type": "code",
      "execution_count": null,
      "metadata": {
        "id": "SMZWD50-TOJv"
      },
      "outputs": [],
      "source": [
        "movie_file = open(\"Moviesheet.txt\", \"r\")\n",
        "\n",
        "movies = movie_file.readlines()\n",
        "\n",
        "movie_dict = {}\n",
        "\n",
        "print(movies)\n",
        "\n",
        "t = 'xxs'\n",
        "\n",
        "for n in movies:\n",
        "    if n == '*****\\n':\n",
        "        t = 'llh'\n",
        "        continue\n",
        "    \n",
        "    movie_dict[n] = t\n",
        "\n",
        "movies = [n for n in movies if n != '*****\\n']\n",
        "\n",
        "movies_copy = movies[:]\n",
        "\n",
        "for i in range(5, 0, -1):\n",
        "  print(i)\n",
        "  time.sleep(0.8)\n",
        "\n",
        "v1 = random.choice(movies_copy[:])\n",
        "\n",
        "bn = '\\n'\n",
        "# print('WINNER!!!------>', v1.split(\"\\n\")[0], '-', movie_dict[v1])\n",
        "print(f'WINNER!!!------> {v1.split(bn)[0]} - {movie_dict[v1]}')\n",
        "\n",
        "movie_file.close()"
      ]
    },
    {
      "cell_type": "markdown",
      "metadata": {
        "id": "wWT4Ix1rgfvV"
      },
      "source": [
        "**Version Two**\n",
        "\n",
        "防耍賴， 已shuffle 兩遍，非常公平"
      ]
    },
    {
      "cell_type": "code",
      "execution_count": null,
      "metadata": {
        "id": "eBoK3ZPHd_GB"
      },
      "outputs": [],
      "source": [
        "random.shuffle(movies)\n",
        "\n",
        "movies_copy = movies[:]\n",
        "\n",
        "for i in range(5, 0, -1):\n",
        "  print(i)\n",
        "  time.sleep(0.8)\n",
        "\n",
        "pickfive = random.sample(movies_copy, 5)\n",
        "\n",
        "print(f'***the five survivors are: {pickfive} Wooooooo~ 好緊張呀')"
      ]
    },
    {
      "cell_type": "code",
      "execution_count": null,
      "metadata": {
        "id": "kVw3YqzDehuh"
      },
      "outputs": [],
      "source": [
        "random.shuffle(pickfive)\n",
        "# print(pickfive)\n",
        "v2 = random.choice(pickfive[:])\n",
        "\n",
        "for i in range(5, 0, -1):\n",
        "  print(i)\n",
        "  time.sleep(0.8)\n",
        "\n",
        "print(f'***yayyyy!!!!-----> {v2.split(bn)[0]} - {movie_dict[v2]}')"
      ]
    },
    {
      "cell_type": "markdown",
      "metadata": {
        "id": "ZirIjf84qaOz"
      },
      "source": [
        "**Version Three**\n",
        "\n",
        "一定要選到llh想看的電影"
      ]
    },
    {
      "cell_type": "code",
      "execution_count": null,
      "metadata": {
        "id": "ta2zC14uZjAm"
      },
      "outputs": [],
      "source": [
        "for i in range(5, 0, -1):\n",
        "  print(i)\n",
        "  time.sleep(0.8)\n",
        "\n",
        "if movie_dict[v1] == 'llh' and movie_dict[v2] == 'llh':\n",
        "    final = random.choice([v1, v2])\n",
        "    print(f'{final.split(bn)[0]} - {movie_dict[final]}')\n",
        "\n",
        "elif movie_dict[v1] == 'xxs' and movie_dict[v2] == 'xxs':\n",
        "    final = random.choice([v1, v2])\n",
        "    print(f'{final.split(bn)[0]} - {movie_dict[final]}')\n",
        "    \n",
        "else: \n",
        "    if random.random() < 0.48: \n",
        "        if movie_dict[v1] == 'xxs':\n",
        "            final = v1\n",
        "        else:\n",
        "            final = v2\n",
        "\n",
        "    else:\n",
        "        if movie_dict[v1] == 'llh':\n",
        "            final = v1\n",
        "        else:\n",
        "            final = v2\n",
        "    print(f'{final.split(bn)[0]} - {movie_dict[final]}')"
      ]
    },
    {
      "cell_type": "markdown",
      "metadata": {
        "id": "hHBkzgWskR9E"
      },
      "source": [
        "**Version Four**\n",
        "\n",
        "llh要發終極大招了！！！"
      ]
    },
    {
      "cell_type": "code",
      "execution_count": null,
      "metadata": {
        "id": "VAnjFRkwi6VO"
      },
      "outputs": [],
      "source": [
        "chances = 1\n",
        "\n",
        "if movie_dict[final] == 'llh':\n",
        "    print(f'我們現在去看 {final.split(bn)[0]} 吧！')\n",
        "\n",
        "else:\n",
        "    print(f'Welcome to the I WILL NEVER LET YOU WIN Quiz Game')\n",
        "\n",
        "    time.sleep(2)\n",
        "    \n",
        "    for i in range(3, 0, -1):\n",
        "        print(i)\n",
        "        time.sleep(0.8)\n",
        "\n",
        "    Question_1 = print('1) 請問以下哪一種食物llh最不喜歡吃？\\n (a)韭菜盒子\\n (b)榴蓮盒子\\n (c)青椒盒子\\n (d)生薑盒子\\n')\n",
        "    \n",
        "    time.sleep(3)\n",
        "\n",
        "    for i in range(chances):\n",
        "        answer = input('Answer: ')\n",
        "        if (answer.lower() == Answer_1):\n",
        "            print('答對了， 下一題')\n",
        "            break\n",
        "        \n",
        "        else:\n",
        "            print('這你都答錯了，哼，懲罰你陪我看Shaun of the Dead')\n",
        "            sys.exit()\n",
        "    \n",
        "    time.sleep(3)\n",
        "    for i in range(3, 0, -1):\n",
        "        print('.')\n",
        "        time.sleep(0.8)\n",
        "    \n",
        "    Question_2 = print('2) 請問llh的第二偶像是誰？\\n (a)載哥\\n (b)小張\\n (c)黃始木\\n (d)小崔\\n')\n",
        "    \n",
        "    time.sleep(3)\n",
        "\n",
        "    for i in range(chances):\n",
        "        answer = input('Answer: ')\n",
        "        if (answer.lower() == Answer_2):\n",
        "            print('答對了， 下一題')\n",
        "            break\n",
        "        \n",
        "        else:\n",
        "            print('這你都答錯了，哼，懲罰你陪我看Tick tick boom')\n",
        "            sys.exit()\n",
        "    \n",
        "        time.sleep(3)\n",
        "    for i in range(3, 0, -1):\n",
        "        print('.')\n",
        "        time.sleep(0.8)\n",
        "    \n",
        "    Question_3 = print('3) 請問llh今年多大了\\n (a)不能透露\\n (b)18嵗\\n (c)3嵗\\n (d)長生不老\\n')\n",
        "    \n",
        "    time.sleep(3)\n",
        "\n",
        "    for i in range(chances):\n",
        "        answer = input('Answer: ')\n",
        "        if (answer.lower() == Answer_3):\n",
        "            for i in range(3, 0, -1):\n",
        "                print('.')\n",
        "                time.sleep(0.8)\n",
        "                \n",
        "            print(f'算你厲害！ 一起看 {final.split(bn)[0]} 吧')\n",
        "            break\n",
        "        \n",
        "        else:\n",
        "            print('這你都答錯了，哼，懲罰你陪我看Finch')\n",
        "            sys.exit()\n",
        "\n"
      ]
    }
  ],
  "metadata": {
    "colab": {
      "name": "Movie Generator",
      "provenance": [],
      "authorship_tag": "ABX9TyMa86XexCWmZhN9sVUDyVah",
      "include_colab_link": true
    },
    "kernelspec": {
      "display_name": "Python 3",
      "name": "python3"
    },
    "language_info": {
      "name": "python"
    }
  },
  "nbformat": 4,
  "nbformat_minor": 0
}